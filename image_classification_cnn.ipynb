{
 "cells": [
  {
   "cell_type": "markdown",
   "metadata": {
    "pycharm": {
     "name": "#%% md\n"
    }
   },
   "source": [
    "# Step 0: Import Libraries"
   ]
  },
  {
   "cell_type": "markdown",
   "metadata": {
    "pycharm": {
     "name": "#%% md\n"
    }
   },
   "source": [
    "Import all the required Tensorflow and Keras libraries"
   ]
  },
  {
   "cell_type": "code",
   "execution_count": null,
   "metadata": {},
   "outputs": [],
   "source": [
    "!pip install tensorflow\n"
   ]
  },
  {
   "cell_type": "code",
   "execution_count": 2,
   "metadata": {
    "pycharm": {
     "name": "#%%\n"
    }
   },
   "outputs": [
    {
     "name": "stdout",
     "output_type": "stream",
     "text": [
      "WARNING:tensorflow:From C:\\Users\\ducth\\anaconda3\\Lib\\site-packages\\keras\\src\\losses.py:2976: The name tf.losses.sparse_softmax_cross_entropy is deprecated. Please use tf.compat.v1.losses.sparse_softmax_cross_entropy instead.\n",
      "\n"
     ]
    }
   ],
   "source": [
    "from tensorflow.keras.models import load_model\n",
    "from tensorflow.keras.models import Sequential\n",
    "from tensorflow.keras.layers import Conv2D\n",
    "from tensorflow.keras.layers import MaxPooling2D\n",
    "from tensorflow.keras.layers import Flatten\n",
    "from tensorflow.keras.layers import Dense\n",
    "from tensorflow.keras.optimizers import Adam\n",
    "from tensorflow.keras.preprocessing import image\n",
    "from tensorflow.keras import regularizers \n",
    "\n",
    "import os as os\n",
    "import numpy as np\n",
    "import matplotlib.pyplot as plt\n",
    "\n",
    "# Dataset sizes\n",
    "num_train_images = 23000\n",
    "num_validation_images = 2000\n",
    "num_test_images = 399\n",
    "\n",
    "# Model Hyperparameters\n",
    "input_image_size = 64\n",
    "batch_size = 32\n",
    "num_training_epochs = 40\n",
    "learning_rate = 0.001\n",
    "l2_lambda = 0.01\n",
    "\n",
    "# Parameters derived from hyperparameters\n",
    "training_steps_per_epoch = int(num_train_images/batch_size)\n",
    "validation_steps_per_epoch = int(num_validation_images/batch_size)\n",
    "testing_steps_per_epoch = num_test_images/batch_size\n",
    "\n",
    "%matplotlib inline"
   ]
  },
  {
   "cell_type": "markdown",
   "metadata": {
    "pycharm": {
     "name": "#%% md\n"
    }
   },
   "source": [
    " # Step 1: Design the CNN architecture. After designing the architecture, print it in iPython Notebook. \n"
   ]
  },
  {
   "cell_type": "code",
   "execution_count": 3,
   "metadata": {
    "pycharm": {
     "name": "#%%\n"
    }
   },
   "outputs": [
    {
     "name": "stdout",
     "output_type": "stream",
     "text": [
      "WARNING:tensorflow:From C:\\Users\\ducth\\anaconda3\\Lib\\site-packages\\keras\\src\\backend.py:873: The name tf.get_default_graph is deprecated. Please use tf.compat.v1.get_default_graph instead.\n",
      "\n",
      "WARNING:tensorflow:From C:\\Users\\ducth\\anaconda3\\Lib\\site-packages\\keras\\src\\layers\\pooling\\max_pooling2d.py:161: The name tf.nn.max_pool is deprecated. Please use tf.nn.max_pool2d instead.\n",
      "\n",
      "Model: \"sequential\"\n",
      "_________________________________________________________________\n",
      " Layer (type)                Output Shape              Param #   \n",
      "=================================================================\n",
      " conv2d (Conv2D)             (None, 62, 62, 8)         224       \n",
      "                                                                 \n",
      " max_pooling2d (MaxPooling2  (None, 31, 31, 8)         0         \n",
      " D)                                                              \n",
      "                                                                 \n",
      " conv2d_1 (Conv2D)           (None, 29, 29, 32)        2336      \n",
      "                                                                 \n",
      " max_pooling2d_1 (MaxPoolin  (None, 14, 14, 32)        0         \n",
      " g2D)                                                            \n",
      "                                                                 \n",
      " conv2d_2 (Conv2D)           (None, 12, 12, 64)        18496     \n",
      "                                                                 \n",
      " max_pooling2d_2 (MaxPoolin  (None, 6, 6, 64)          0         \n",
      " g2D)                                                            \n",
      "                                                                 \n",
      " conv2d_3 (Conv2D)           (None, 4, 4, 128)         73856     \n",
      "                                                                 \n",
      " max_pooling2d_3 (MaxPoolin  (None, 2, 2, 128)         0         \n",
      " g2D)                                                            \n",
      "                                                                 \n",
      " flatten (Flatten)           (None, 512)               0         \n",
      "                                                                 \n",
      " dense (Dense)               (None, 128)               65664     \n",
      "                                                                 \n",
      " dense_1 (Dense)             (None, 1)                 129       \n",
      "                                                                 \n",
      "=================================================================\n",
      "Total params: 160705 (627.75 KB)\n",
      "Trainable params: 160705 (627.75 KB)\n",
      "Non-trainable params: 0 (0.00 Byte)\n",
      "_________________________________________________________________\n"
     ]
    }
   ],
   "source": [
    "\n",
    "model = Sequential()\n",
    "\n",
    "model.add(Conv2D(8, (3, 3), input_shape=(64, 64, 3), activation='relu'))\n",
    "\n",
    "\n",
    "model.add(MaxPooling2D(pool_size=(2, 2)))\n",
    "\n",
    "\n",
    "model.add(Conv2D(32, (3, 3), activation='relu'))\n",
    "model.add(MaxPooling2D(pool_size=(2, 2)))\n",
    "\n",
    "model.add(Conv2D(64, (3, 3), activation='relu'))\n",
    "model.add(MaxPooling2D(pool_size=(2, 2)))\n",
    "\n",
    "model.add(Conv2D(128, (3, 3), activation='relu'))\n",
    "model.add(MaxPooling2D(pool_size=(2, 2)))\n",
    "\n",
    "\n",
    "model.add(Flatten())\n",
    "\n",
    "\n",
    "model.add(Dense(128, activation='relu', kernel_regularizer=regularizers.l2(l2_lambda)))\n",
    "\n",
    "model.add(Dense(1, activation='sigmoid'))\n",
    "\n",
    "opt = Adam(learning_rate=learning_rate)\n",
    "\n",
    "model.compile(optimizer=opt, loss='binary_crossentropy', metrics=['accuracy'])\n",
    "\n",
    "model.summary()"
   ]
  },
  {
   "cell_type": "markdown",
   "metadata": {
    "pycharm": {
     "name": "#%% md\n"
    }
   },
   "source": [
    "# Step 2: Load Images and Prepare the Network for training"
   ]
  },
  {
   "cell_type": "code",
   "execution_count": 4,
   "metadata": {
    "pycharm": {
     "name": "#%%\n"
    }
   },
   "outputs": [
    {
     "name": "stdout",
     "output_type": "stream",
     "text": [
      "Found 23000 images belonging to 2 classes.\n",
      "Found 2000 images belonging to 2 classes.\n"
     ]
    }
   ],
   "source": [
    "from tensorflow.keras.preprocessing.image import ImageDataGenerator\n",
    "\n",
    "# Create the ImageDataGenerator() for the training data.  \n",
    "\n",
    "train_datagen = ImageDataGenerator(\n",
    "    rescale=1./255,\n",
    "    shear_range=0.1,\n",
    "    zoom_range=0.1,\n",
    "    horizontal_flip=True\n",
    ")\n",
    "\n",
    "\n",
    "# Create the ImageDataGenerator() for the validation data\n",
    "validation_datagen = ImageDataGenerator(rescale=1./255)\n",
    "\n",
    "training_set_folder = \"C:\\\\Users\\\\ducth\\\\cmpt 487 asm\\\\asm6\\\\train\" \n",
    "validation_set_folder = \"C:\\\\Users\\\\ducth\\\\cmpt 487 asm\\\\asm6\\\\valid\"  \n",
    "\n",
    "training_set = train_datagen.flow_from_directory(\n",
    "    training_set_folder,\n",
    "    target_size=(input_image_size, input_image_size),\n",
    "    batch_size=batch_size,\n",
    "    class_mode='binary'\n",
    ")\n",
    "\n",
    "validation_set = validation_datagen.flow_from_directory(\n",
    "    validation_set_folder,\n",
    "    target_size=(input_image_size, input_image_size),\n",
    "    batch_size=batch_size,\n",
    "    class_mode='binary'\n",
    ")\n",
    "\n"
   ]
  },
  {
   "cell_type": "markdown",
   "metadata": {
    "pycharm": {
     "name": "#%% md\n"
    }
   },
   "source": [
    "# Step 3: Train the CNN Network"
   ]
  },
  {
   "cell_type": "code",
   "execution_count": 5,
   "metadata": {
    "jupyter": {
     "outputs_hidden": false
    },
    "pycharm": {
     "name": "#%%\n"
    }
   },
   "outputs": [
    {
     "name": "stdout",
     "output_type": "stream",
     "text": [
      "Epoch 1/40\n",
      "WARNING:tensorflow:From C:\\Users\\ducth\\anaconda3\\Lib\\site-packages\\keras\\src\\utils\\tf_utils.py:492: The name tf.ragged.RaggedTensorValue is deprecated. Please use tf.compat.v1.ragged.RaggedTensorValue instead.\n",
      "\n",
      "WARNING:tensorflow:From C:\\Users\\ducth\\anaconda3\\Lib\\site-packages\\keras\\src\\engine\\base_layer_utils.py:384: The name tf.executing_eagerly_outside_functions is deprecated. Please use tf.compat.v1.executing_eagerly_outside_functions instead.\n",
      "\n",
      "718/718 [==============================] - 88s 120ms/step - loss: 0.7577 - accuracy: 0.5669 - val_loss: 0.6410 - val_accuracy: 0.6321\n",
      "Epoch 2/40\n",
      "718/718 [==============================] - 80s 111ms/step - loss: 0.6031 - accuracy: 0.6824 - val_loss: 0.5826 - val_accuracy: 0.7137\n",
      "Epoch 3/40\n",
      "718/718 [==============================] - 75s 105ms/step - loss: 0.5353 - accuracy: 0.7353 - val_loss: 0.5125 - val_accuracy: 0.7555\n",
      "Epoch 4/40\n",
      "718/718 [==============================] - 93s 130ms/step - loss: 0.4931 - accuracy: 0.7707 - val_loss: 0.5524 - val_accuracy: 0.7268\n",
      "Epoch 5/40\n",
      "718/718 [==============================] - 85s 119ms/step - loss: 0.4586 - accuracy: 0.7898 - val_loss: 0.4855 - val_accuracy: 0.7601\n",
      "Epoch 6/40\n",
      "718/718 [==============================] - 89s 124ms/step - loss: 0.4309 - accuracy: 0.8051 - val_loss: 0.4470 - val_accuracy: 0.7893\n",
      "Epoch 7/40\n",
      "718/718 [==============================] - 84s 117ms/step - loss: 0.4026 - accuracy: 0.8208 - val_loss: 0.4232 - val_accuracy: 0.8160\n",
      "Epoch 8/40\n",
      "718/718 [==============================] - 82s 114ms/step - loss: 0.3927 - accuracy: 0.8296 - val_loss: 0.3804 - val_accuracy: 0.8317\n",
      "Epoch 9/40\n",
      "718/718 [==============================] - 79s 110ms/step - loss: 0.3751 - accuracy: 0.8347 - val_loss: 0.3958 - val_accuracy: 0.8206\n",
      "Epoch 10/40\n",
      "718/718 [==============================] - 80s 112ms/step - loss: 0.3662 - accuracy: 0.8395 - val_loss: 0.3553 - val_accuracy: 0.8453\n",
      "Epoch 11/40\n",
      "718/718 [==============================] - 82s 114ms/step - loss: 0.3501 - accuracy: 0.8484 - val_loss: 0.3657 - val_accuracy: 0.8432\n",
      "Epoch 12/40\n",
      "718/718 [==============================] - 104s 145ms/step - loss: 0.3419 - accuracy: 0.8526 - val_loss: 0.3384 - val_accuracy: 0.8533\n",
      "Epoch 13/40\n",
      "718/718 [==============================] - 82s 115ms/step - loss: 0.3315 - accuracy: 0.8578 - val_loss: 0.3665 - val_accuracy: 0.8412\n",
      "Epoch 14/40\n",
      "718/718 [==============================] - 81s 113ms/step - loss: 0.3229 - accuracy: 0.8628 - val_loss: 0.3456 - val_accuracy: 0.8508\n",
      "Epoch 15/40\n",
      "718/718 [==============================] - 77s 108ms/step - loss: 0.3183 - accuracy: 0.8642 - val_loss: 0.3336 - val_accuracy: 0.8538\n",
      "Epoch 16/40\n",
      "718/718 [==============================] - 77s 107ms/step - loss: 0.3119 - accuracy: 0.8662 - val_loss: 0.3466 - val_accuracy: 0.8448\n",
      "Epoch 17/40\n",
      "718/718 [==============================] - 81s 113ms/step - loss: 0.3020 - accuracy: 0.8716 - val_loss: 0.3785 - val_accuracy: 0.8311\n",
      "Epoch 18/40\n",
      "718/718 [==============================] - 87s 121ms/step - loss: 0.2997 - accuracy: 0.8718 - val_loss: 0.3620 - val_accuracy: 0.8332\n",
      "Epoch 19/40\n",
      "718/718 [==============================] - 89s 124ms/step - loss: 0.2925 - accuracy: 0.8773 - val_loss: 0.3400 - val_accuracy: 0.8518\n",
      "Epoch 20/40\n",
      "718/718 [==============================] - 74s 103ms/step - loss: 0.2842 - accuracy: 0.8784 - val_loss: 0.3296 - val_accuracy: 0.8579\n",
      "Epoch 21/40\n",
      "718/718 [==============================] - 72s 100ms/step - loss: 0.2806 - accuracy: 0.8818 - val_loss: 0.3317 - val_accuracy: 0.8483\n",
      "Epoch 22/40\n",
      "718/718 [==============================] - 71s 99ms/step - loss: 0.2740 - accuracy: 0.8861 - val_loss: 0.3333 - val_accuracy: 0.8619\n",
      "Epoch 23/40\n",
      "718/718 [==============================] - 72s 100ms/step - loss: 0.2739 - accuracy: 0.8869 - val_loss: 0.3477 - val_accuracy: 0.8468\n",
      "Epoch 24/40\n",
      "718/718 [==============================] - 79s 111ms/step - loss: 0.2717 - accuracy: 0.8883 - val_loss: 0.3272 - val_accuracy: 0.8513\n",
      "Epoch 25/40\n",
      "718/718 [==============================] - 77s 107ms/step - loss: 0.2671 - accuracy: 0.8884 - val_loss: 0.3324 - val_accuracy: 0.8599\n",
      "Epoch 26/40\n",
      "718/718 [==============================] - 74s 104ms/step - loss: 0.2581 - accuracy: 0.8925 - val_loss: 0.3182 - val_accuracy: 0.8644\n",
      "Epoch 27/40\n",
      "718/718 [==============================] - 77s 107ms/step - loss: 0.2625 - accuracy: 0.8903 - val_loss: 0.3170 - val_accuracy: 0.8679\n",
      "Epoch 28/40\n",
      "718/718 [==============================] - 74s 103ms/step - loss: 0.2508 - accuracy: 0.8977 - val_loss: 0.3332 - val_accuracy: 0.8614\n",
      "Epoch 29/40\n",
      "718/718 [==============================] - 76s 106ms/step - loss: 0.2525 - accuracy: 0.8966 - val_loss: 0.3293 - val_accuracy: 0.8700\n",
      "Epoch 30/40\n",
      "718/718 [==============================] - 74s 104ms/step - loss: 0.2483 - accuracy: 0.8982 - val_loss: 0.3353 - val_accuracy: 0.8695\n",
      "Epoch 31/40\n",
      "718/718 [==============================] - 77s 107ms/step - loss: 0.2455 - accuracy: 0.8992 - val_loss: 0.3267 - val_accuracy: 0.8725\n",
      "Epoch 32/40\n",
      "718/718 [==============================] - 75s 105ms/step - loss: 0.2482 - accuracy: 0.8970 - val_loss: 0.3452 - val_accuracy: 0.8503\n",
      "Epoch 33/40\n",
      "718/718 [==============================] - 77s 107ms/step - loss: 0.2360 - accuracy: 0.9037 - val_loss: 0.3324 - val_accuracy: 0.8564\n",
      "Epoch 34/40\n",
      "718/718 [==============================] - 75s 104ms/step - loss: 0.2382 - accuracy: 0.9023 - val_loss: 0.3257 - val_accuracy: 0.8619\n",
      "Epoch 35/40\n",
      "718/718 [==============================] - 81s 112ms/step - loss: 0.2345 - accuracy: 0.9041 - val_loss: 0.3205 - val_accuracy: 0.8720\n",
      "Epoch 36/40\n",
      "718/718 [==============================] - 78s 109ms/step - loss: 0.2337 - accuracy: 0.9045 - val_loss: 0.3209 - val_accuracy: 0.8619\n",
      "Epoch 37/40\n",
      "718/718 [==============================] - 81s 113ms/step - loss: 0.2300 - accuracy: 0.9056 - val_loss: 0.3375 - val_accuracy: 0.8518\n",
      "Epoch 38/40\n",
      "718/718 [==============================] - 73s 101ms/step - loss: 0.2318 - accuracy: 0.9043 - val_loss: 0.3559 - val_accuracy: 0.8659\n",
      "Epoch 39/40\n",
      "718/718 [==============================] - 72s 100ms/step - loss: 0.2280 - accuracy: 0.9081 - val_loss: 0.3279 - val_accuracy: 0.8644\n",
      "Epoch 40/40\n",
      "718/718 [==============================] - 72s 100ms/step - loss: 0.2197 - accuracy: 0.9086 - val_loss: 0.3217 - val_accuracy: 0.8634\n"
     ]
    }
   ],
   "source": [
    "# Train the CNN using the fit() function of your CNN. \n",
    "history = model.fit(\n",
    "    training_set,\n",
    "    steps_per_epoch=training_steps_per_epoch,\n",
    "    epochs=num_training_epochs,\n",
    "    validation_data=validation_set,\n",
    "    validation_steps=validation_steps_per_epoch,\n",
    "    verbose=1\n",
    ")\n",
    "\n"
   ]
  },
  {
   "cell_type": "markdown",
   "metadata": {
    "pycharm": {
     "name": "#%% md\n"
    }
   },
   "source": [
    "# Step 4: Save the model and weights for prediction"
   ]
  },
  {
   "cell_type": "code",
   "execution_count": 6,
   "metadata": {
    "pycharm": {
     "name": "#%%\n"
    }
   },
   "outputs": [
    {
     "name": "stdout",
     "output_type": "stream",
     "text": [
      "Saved model to disk\n"
     ]
    },
    {
     "name": "stderr",
     "output_type": "stream",
     "text": [
      "C:\\Users\\ducth\\anaconda3\\Lib\\site-packages\\keras\\src\\engine\\training.py:3103: UserWarning: You are saving your model as an HDF5 file via `model.save()`. This file format is considered legacy. We recommend using instead the native Keras format, e.g. `model.save('my_model.keras')`.\n",
      "  saving_api.save_model(\n"
     ]
    }
   ],
   "source": [
    "model.save('Cat-Dog-64x64-4layer-maxpooling.h5')\n",
    "print(\"Saved model to disk\")"
   ]
  },
  {
   "cell_type": "markdown",
   "metadata": {
    "pycharm": {
     "name": "#%% md\n"
    }
   },
   "source": [
    "# Step 5: Plot the training and Validation Loss/Accuracy"
   ]
  },
  {
   "cell_type": "code",
   "execution_count": 9,
   "metadata": {
    "pycharm": {
     "name": "#%%\n"
    }
   },
   "outputs": [
    {
     "data": {
      "image/png": "[encoded data removed]",
      "text/plain": [
       "<Figure size 1200x600 with 2 Axes>"
      ]
     },
     "metadata": {},
     "output_type": "display_data"
    }
   ],
   "source": [
    "import matplotlib.pyplot as plt\n",
    "\n",
    "training_accuracy = history.history['accuracy']\n",
    "validation_accuracy = history.history['val_accuracy']\n",
    "training_loss = history.history['loss']\n",
    "validation_loss = history.history['val_loss']\n",
    "\n",
    "plt.figure(figsize=(12, 6))\n",
    "plt.subplot(1, 2, 1)\n",
    "plt.plot(range(1, num_training_epochs + 1), training_accuracy, label='Training')\n",
    "plt.plot(range(1, num_training_epochs + 1), validation_accuracy, label='Validation')\n",
    "plt.xlabel('Epoch')\n",
    "plt.ylabel('Accuracy')\n",
    "plt.legend()\n",
    "\n",
    "plt.subplot(1, 2, 2)\n",
    "plt.plot(range(1, num_training_epochs + 1), training_loss, label='Training')\n",
    "plt.plot(range(1, num_training_epochs + 1), validation_loss, label='Validation')\n",
    "plt.xlabel('Epoch')\n",
    "plt.ylabel('Loss')\n",
    "plt.legend()\n",
    "\n",
    "plt.tight_layout()\n",
    "plt.show()\n"
   ]
  },
  {
   "cell_type": "code",
   "execution_count": null,
   "metadata": {},
   "outputs": [],
   "source": [
    "\"\"\"\n",
    "There is a noticeable gap between the training accuracy and validation\n",
    "accuracy, and a similar gap between training loss and validation loss.\n",
    "This suggests that the model may be overfitting to the training data\n",
    "\"\"\"\n",
    "\n",
    "\"\"\"\n",
    "Overfitting occurs when a model learns the training data too well,\n",
    "including its noise and specific features that do not generalize well\n",
    "to unseen data. The gap between training and validation metrics \n",
    "indicates that the model is performing significantly better on the \n",
    "training data compared to the validation data, suggesting overfitting.\n",
    "\"\"\"\n",
    "\n",
    "\"\"\"\n",
    " It seems that around epoch 15, both training and validation accuracy\n",
    " start to plateau, and the validation loss reaches a minimum. After\n",
    " this point, there is not much improvement in validation accuracy, \n",
    " and the risk of overfitting increases. Therefore, stopping training \n",
    " around epoch 15 could likely provide a model with good generalization\n",
    " performance on a test dataset.\n",
    "\"\"\""
   ]
  },
  {
   "cell_type": "markdown",
   "metadata": {
    "pycharm": {
     "name": "#%% md\n"
    }
   },
   "source": [
    "# Step 6: Predict Doc/Cat using the Trained Model"
   ]
  },
  {
   "cell_type": "code",
   "execution_count": 8,
   "metadata": {
    "pycharm": {
     "name": "#%%\n"
    }
   },
   "outputs": [
    {
     "name": "stdout",
     "output_type": "stream",
     "text": [
      "Found 399 images belonging to 2 classes.\n"
     ]
    },
    {
     "name": "stderr",
     "output_type": "stream",
     "text": [
      "C:\\Users\\ducth\\AppData\\Local\\Temp\\ipykernel_10932\\2285415168.py:27: UserWarning: `Model.predict_generator` is deprecated and will be removed in a future version. Please use `Model.predict`, which supports generators.\n",
      "  probabilities = model.predict_generator(test_generator)\n"
     ]
    },
    {
     "name": "stdout",
     "output_type": "stream",
     "text": [
      "The classification rate is 85.21%\n"
     ]
    }
   ],
   "source": [
    "model = load_model('Cat-Dog-64x64-4layer-maxpooling.h5')\n",
    "\n",
    "test_datagen = ImageDataGenerator(rescale=1./255)\n",
    "\n",
    "test_generator = test_datagen.flow_from_directory(\n",
    "    \"C:\\\\Users\\\\ducth\\\\cmpt 487 asm\\\\asm6\\\\test1\",  \n",
    "    target_size=(input_image_size, input_image_size), \n",
    "    batch_size=batch_size,\n",
    "    class_mode=None,  \n",
    "    shuffle=False  \n",
    ")\n",
    "\n",
    "probabilities = model.predict_generator(test_generator)\n",
    "\n",
    "y_pred = np.squeeze((probabilities > 0.5).astype(int))\n",
    "\n",
    "accuracy = np.sum(y_pred == test_generator.classes) / len(test_generator.classes)\n",
    "accuracy_percentage = (accuracy * 100)\n",
    "\n",
    "print(f'The classification rate is {accuracy_percentage:.2f}%')\n",
    "                                        "
   ]
  },
  {
   "cell_type": "code",
   "execution_count": null,
   "metadata": {
    "pycharm": {
     "name": "#%%\n"
    }
   },
   "outputs": [],
   "source": []
  }
 ],
 "metadata": {
  "kernelspec": {
   "display_name": "Python 3 (ipykernel)",
   "language": "python",
   "name": "python3"
  },
  "language_info": {
   "codemirror_mode": {
    "name": "ipython",
    "version": 3
   },
   "file_extension": ".py",
   "mimetype": "text/x-python",
   "name": "python",
   "nbconvert_exporter": "python",
   "pygments_lexer": "ipython3",
   "version": "3.11.4"
  },
  "pycharm": {
   "stem_cell": {
    "cell_type": "raw",
    "metadata": {
     "collapsed": false
    },
    "source": []
   }
  }
 },
 "nbformat": 4,
 "nbformat_minor": 4
}
